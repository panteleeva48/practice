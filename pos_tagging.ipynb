{
 "cells": [
  {
   "cell_type": "code",
   "execution_count": 1,
   "metadata": {
    "collapsed": true
   },
   "outputs": [],
   "source": [
    "from model import Model\n",
    "model = Model('english-partut-ud-2.0-170801.udpipe')\n",
    "import res\n",
    "import re\n",
    "import os\n",
    "from tqdm import tqdm_notebook as tqdm\n",
    "import unicodedata\n",
    "import numpy as np"
   ]
  },
  {
   "cell_type": "code",
   "execution_count": 2,
   "metadata": {
    "collapsed": true
   },
   "outputs": [],
   "source": [
    "# скачать всю папку дата\n",
    "# сделать бекап\n",
    "# переделать папку 2017\n",
    "# загрузить 2017 - посмотреть убрались ли ошибки\n",
    "# распарсить всю data\n",
    "# загрузить на сервер"
   ]
  },
  {
   "cell_type": "code",
   "execution_count": 6,
   "metadata": {
    "collapsed": true
   },
   "outputs": [],
   "source": [
    "main_dir = '/Users/irene/Downloads/data/MAGOLEGO'\n",
    "files_list = []\n",
    "anns = []\n",
    "for root, dirs, files in os.walk(main_dir):\n",
    "    for name in files:\n",
    "        if '.txt' in name:\n",
    "            files_list.append(os.path.join(root, name))\n",
    "        if '.ann' in name:\n",
    "            anns.append(os.path.join(root, name))"
   ]
  },
  {
   "cell_type": "code",
   "execution_count": null,
   "metadata": {
    "collapsed": true
   },
   "outputs": [],
   "source": [
    "#anns = ['annotation.ann']"
   ]
  },
  {
   "cell_type": "markdown",
   "metadata": {},
   "source": [
    "for n in tqdm(anns):\n",
    "    with open(n, 'r') as f:\n",
    "        text = f.readlines()\n",
    "    secs = []\n",
    "    iss = []\n",
    "    i = 0\n",
    "    for l in text:\n",
    "        if 'lemma' in l:\n",
    "            sec = re.search('T([0-9]+)', l).group(1)\n",
    "            secs.append(sec)\n",
    "            iss.append(i)#text.remove(l)\n",
    "        i += 1\n",
    "    text = np.delete(text, iss).tolist()\n",
    "    \n",
    "    inds = []\n",
    "    for k in text:\n",
    "        for s in secs:\n",
    "            if k.startswith('T'+s+'\\t'):\n",
    "                inds.append(text.index(k))\n",
    "    inds = list(set(inds))\n",
    "    a = np.delete(text, inds).tolist()\n",
    "    \n",
    "    tts2 = []\n",
    "    tts1 = []\n",
    "    for p in a:\n",
    "        try:\n",
    "            tt_first = re.search('^(T[0-9]+)', p).group(1)\n",
    "            tts1.append(tt_first)\n",
    "        except:\n",
    "            if 'Delete' in p:\n",
    "                tt_second = re.search(' (T[0-9]+)', p).group(1)\n",
    "                tts2.append(tt_second)\n",
    "    for z in tts2:\n",
    "        if z not in tts1:\n",
    "            print(n, z, 'Delete')\n",
    "\n",
    "    r = ''\n",
    "    for d in a:\n",
    "        r += d\n",
    "    with open(n, 'w') as f:\n",
    "        f.write(r)"
   ]
  },
  {
   "cell_type": "code",
   "execution_count": null,
   "metadata": {
    "collapsed": true
   },
   "outputs": [],
   "source": [
    "for n in tqdm(anns):\n",
    "    with open(n, 'r') as f:\n",
    "        text = f.readlines()\n",
    "    for z in text:\n",
    "        if 'A5\tDelete T8' in z:\n",
    "            print(n)"
   ]
  },
  {
   "cell_type": "raw",
   "metadata": {},
   "source": [
    "for n in tqdm(anns):\n",
    "    with open(n, 'r') as f:\n",
    "        text = f.readlines()\n",
    "    for z in text:\n",
    "        if 'A2\tDelete T3' in z:\n",
    "            print(n,z)"
   ]
  },
  {
   "cell_type": "raw",
   "metadata": {},
   "source": [
    "for n in tqdm(anns):\n",
    "    with open(n, 'r') as f:\n",
    "        text = f.readlines()\n",
    "    for z in text:\n",
    "        if 'A5\tDelete T8' in z:\n",
    "            print(n)"
   ]
  },
  {
   "cell_type": "raw",
   "metadata": {},
   "source": [
    "for n in tqdm(anns):\n",
    "    with open(n, 'r') as f:\n",
    "        text = f.readlines()\n",
    "    secs = []\n",
    "    for l in text:\n",
    "        if 'lemma' in l:\n",
    "            sec = re.search('T([0-9]+)', l).group(1)\n",
    "            secs.append(sec)\n",
    "            text.remove(l)\n",
    "    \n",
    "    inds = []\n",
    "    for k in text:\n",
    "        for s in secs:\n",
    "            if k.startswith('T'+s+'\\t'):\n",
    "                inds.append(text.index(k))\n",
    "    a = np.delete(text, inds).tolist()\n",
    "    \n",
    "    tts2 = []\n",
    "    tts1 = []\n",
    "    for p in a:\n",
    "        #print(p)\n",
    "        if p.startswith('#') is False:\n",
    "            if p.startswith('A') or p.startswith('*'):\n",
    "                try:\n",
    "                    tt_second = re.search(' (T[0-9]+)', p).group(1)\n",
    "                    tts2.append(tt_second)\n",
    "                except:\n",
    "                    print(n, p)\n",
    "            elif p.startswith('R'):\n",
    "                print(n, p)\n",
    "            else:\n",
    "                try:\n",
    "                    tt_first = re.search('^(T[0-9]+)', p).group(1)\n",
    "                    tts1.append(tt_first)\n",
    "                except:\n",
    "                    print(n, p)\n",
    "        else:\n",
    "            if 'Minor' in p or 'Major' in p:\n",
    "                continue\n",
    "            else:\n",
    "                tt_second = re.search(' (T[0-9]+)', p).group(1)\n",
    "                tts2.append(tt_second)\n",
    "    if set(tts2)-set(tts1) != set():\n",
    "        print(n, set(tts2)-set(tts1))\n",
    "\n",
    "    r = ''\n",
    "    for d in a:\n",
    "        r += d\n",
    "    with open(n, 'w') as f:\n",
    "        f.write(r)"
   ]
  },
  {
   "cell_type": "code",
   "execution_count": 7,
   "metadata": {},
   "outputs": [
    {
     "data": {
      "application/vnd.jupyter.widget-view+json": {
       "model_id": "b7da3a13c0c74cdb90c8637b4b7403db",
       "version_major": 2,
       "version_minor": 0
      },
      "text/plain": [
       "A Jupyter Widget"
      ]
     },
     "metadata": {},
     "output_type": "display_data"
    },
    {
     "name": "stdout",
     "output_type": "stream",
     "text": [
      "\n"
     ]
    }
   ],
   "source": [
    "for n in tqdm(anns):\n",
    "    with open(n, 'r') as f:\n",
    "        text = f.readlines()\n",
    "    secs = []\n",
    "    for l in text:\n",
    "        if 'lemma' in l:\n",
    "            sec = re.search('T([0-9]+)', l).group(1)\n",
    "            secs.append(sec)\n",
    "            text.remove(l)\n",
    "    \n",
    "    inds = []\n",
    "    for k in text:\n",
    "        for s in secs:\n",
    "            if 'T'+s+'\\t' in k:\n",
    "                inds.append(text.index(k))\n",
    "    a = np.delete(text, inds).tolist()\n",
    "    \n",
    "    r = ''\n",
    "    for d in a:\n",
    "        r += d\n",
    "    with open(n, 'w') as f:\n",
    "        f.write(r)"
   ]
  },
  {
   "cell_type": "code",
   "execution_count": 5,
   "metadata": {},
   "outputs": [
    {
     "data": {
      "application/vnd.jupyter.widget-view+json": {
       "model_id": "3cb8c9644d684c23b141225090f39a9d",
       "version_major": 2,
       "version_minor": 0
      },
      "text/plain": [
       "A Jupyter Widget"
      ]
     },
     "metadata": {},
     "output_type": "display_data"
    },
    {
     "name": "stdout",
     "output_type": "stream",
     "text": [
      "other 1450\n",
      "/Users/irene/Downloads/data/de/drittes_Studienjahr/de_corpus_10.txt\n",
      "/Users/irene/Downloads/data/de/drittes_Studienjahr/de_corpus_11.txt\n",
      "/Users/irene/Downloads/data/de/drittes_Studienjahr/de_corpus_12.txt\n",
      "/Users/irene/Downloads/data/de/drittes_Studienjahr/de_corpus_13.txt\n",
      "/Users/irene/Downloads/data/de/drittes_Studienjahr/de_corpus_14.txt\n",
      "/Users/irene/Downloads/data/de/drittes_Studienjahr/de_corpus_15.txt\n",
      "/Users/irene/Downloads/data/de/drittes_Studienjahr/de_corpus_16.txt\n",
      "/Users/irene/Downloads/data/de/drittes_Studienjahr/de_corpus_17.txt\n",
      "/Users/irene/Downloads/data/de/drittes_Studienjahr/de_corpus_18.txt\n",
      "/Users/irene/Downloads/data/de/drittes_Studienjahr/de_corpus_19.txt\n",
      "/Users/irene/Downloads/data/de/drittes_Studienjahr/de_corpus_20.txt\n",
      "/Users/irene/Downloads/data/de/drittes_Studienjahr/de_corpus_21.txt\n",
      "/Users/irene/Downloads/data/de/drittes_Studienjahr/de_corpus_22.txt\n",
      "/Users/irene/Downloads/data/de/drittes_Studienjahr/de_corpus_23.txt\n",
      "/Users/irene/Downloads/data/de/drittes_Studienjahr/de_corpus_24.txt\n",
      "/Users/irene/Downloads/data/de/drittes_Studienjahr/de_corpus_25.txt\n",
      "/Users/irene/Downloads/data/de/drittes_Studienjahr/de_corpus_26.txt\n",
      "/Users/irene/Downloads/data/de/drittes_Studienjahr/de_corpus_27.txt\n",
      "/Users/irene/Downloads/data/de/drittes_Studienjahr/de_corpus_28.txt\n",
      "/Users/irene/Downloads/data/de/drittes_Studienjahr/de_corpus_29.txt\n",
      "/Users/irene/Downloads/data/de/drittes_Studienjahr/de_corpus_30.txt\n",
      "/Users/irene/Downloads/data/de/drittes_Studienjahr/de_corpus_31.txt\n",
      "/Users/irene/Downloads/data/de/drittes_Studienjahr/de_corpus_32.txt\n",
      "/Users/irene/Downloads/data/de/drittes_Studienjahr/de_corpus_33.txt\n",
      "/Users/irene/Downloads/data/de/drittes_Studienjahr/de_corpus_34.txt\n",
      "/Users/irene/Downloads/data/de/drittes_Studienjahr/de_corpus_35.txt\n",
      "/Users/irene/Downloads/data/de/drittes_Studienjahr/de_corpus_36.txt\n",
      "/Users/irene/Downloads/data/de/drittes_Studienjahr/de_corpus_37.txt\n",
      "/Users/irene/Downloads/data/de/drittes_Studienjahr/de_corpus_6.txt\n",
      "/Users/irene/Downloads/data/de/drittes_Studienjahr/de_corpus_7.txt\n",
      "/Users/irene/Downloads/data/de/drittes_Studienjahr/de_corpus_8.txt\n",
      "/Users/irene/Downloads/data/de/drittes_Studienjahr/de_corpus_9.txt\n",
      "/Users/irene/Downloads/data/de/drittes_Studienjahr/Korpus_1_(Saetze).txt\n",
      "/Users/irene/Downloads/data/de/drittes_Studienjahr/Korpus_1_(Texte).txt\n",
      "/Users/irene/Downloads/data/de/drittes_Studienjahr/Korpus_1_Beschreibungen.txt\n",
      "/Users/irene/Downloads/data/de/drittes_Studienjahr/Korpus_2_Beschreibungen.txt\n",
      "/Users/irene/Downloads/data/de/drittes_Studienjahr/Korpus_2_Saetze.txt\n",
      "/Users/irene/Downloads/data/de/drittes_Studienjahr/Korpus_2_Texte.txt\n",
      "/Users/irene/Downloads/data/de/erstes_Studienjahr/de_corpus_1.txt\n",
      "/Users/irene/Downloads/data/de/erstes_Studienjahr/de_corpus_2.txt\n",
      "/Users/irene/Downloads/data/de/erstes_Studienjahr/Gruppe 1 (1,2).txt\n",
      "/Users/irene/Downloads/data/de/erstes_Studienjahr/Gruppe 1 (2).txt\n",
      "/Users/irene/Downloads/data/de/zweites_Studienjahr/de_corpus_3.txt\n",
      "/Users/irene/Downloads/data/de/zweites_Studienjahr/de_corpus_4.txt\n",
      "/Users/irene/Downloads/data/de/zweites_Studienjahr/de_corpus_5.txt\n",
      "other 1591\n",
      "/Users/irene/Downloads/data/exam/exam2014/test.txt\n",
      "other 6820\n",
      "/Users/irene/Downloads/data/Exam_practice/OV201617/aesfghfd.txt\n",
      "/Users/irene/Downloads/data/Exam_practice/OV201617/fgd.txt\n",
      "/Users/irene/Downloads/data/Exam_practice/OV201617/wrgfsd.txt\n",
      "\n"
     ]
    }
   ],
   "source": [
    "i = 0\n",
    "for f in tqdm(files_list):\n",
    "    try:\n",
    "        res.itog(f)\n",
    "    except:\n",
    "        print('other', i)\n",
    "    i += 1"
   ]
  },
  {
   "cell_type": "code",
   "execution_count": null,
   "metadata": {
    "collapsed": true
   },
   "outputs": [],
   "source": [
    "#itog('/Users/irene/Downloads/realec/pos_tag/EGe_126_1.txt')"
   ]
  },
  {
   "cell_type": "code",
   "execution_count": null,
   "metadata": {
    "collapsed": true
   },
   "outputs": [],
   "source": [
    "#http://realec.org/index.xhtml#/MAGOLEGO/2018/Student_12_MT"
   ]
  },
  {
   "cell_type": "markdown",
   "metadata": {
    "collapsed": true
   },
   "source": [
    "#ошибка в null и nan\n",
    "#другие модели для других языков\n",
    "#при запуске обработка текста\n",
    "#загрузить размеченные доки\n",
    "#чтобы без повторов парсилось"
   ]
  },
  {
   "cell_type": "code",
   "execution_count": null,
   "metadata": {
    "collapsed": true
   },
   "outputs": [],
   "source": []
  }
 ],
 "metadata": {
  "kernelspec": {
   "display_name": "Python 3",
   "language": "python",
   "name": "python3"
  },
  "language_info": {
   "codemirror_mode": {
    "name": "ipython",
    "version": 3
   },
   "file_extension": ".py",
   "mimetype": "text/x-python",
   "name": "python",
   "nbconvert_exporter": "python",
   "pygments_lexer": "ipython3",
   "version": "3.6.3"
  }
 },
 "nbformat": 4,
 "nbformat_minor": 2
}
